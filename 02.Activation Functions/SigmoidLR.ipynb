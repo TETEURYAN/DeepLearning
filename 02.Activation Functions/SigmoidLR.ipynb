{
  "nbformat": 4,
  "nbformat_minor": 0,
  "metadata": {
    "colab": {
      "provenance": []
    },
    "kernelspec": {
      "name": "python3",
      "display_name": "Python 3"
    },
    "language_info": {
      "name": "python"
    }
  },
  "cells": [
    {
      "cell_type": "markdown",
      "source": [
        "# Notebook about the use of Sigmoid function updating parameters by hiper Learning Rate"
      ],
      "metadata": {
        "id": "EzrMZBMACXHW"
      }
    },
    {
      "cell_type": "markdown",
      "source": [
        "## Importing libs"
      ],
      "metadata": {
        "id": "NaVl_qIeCqbu"
      }
    },
    {
      "cell_type": "code",
      "execution_count": 1,
      "metadata": {
        "id": "slH5NQMGCTXp"
      },
      "outputs": [],
      "source": [
        "import numpy as np\n"
      ]
    },
    {
      "cell_type": "markdown",
      "source": [
        "# Define the Sigmoid Function"
      ],
      "metadata": {
        "id": "PbDMOoV1C35Q"
      }
    },
    {
      "cell_type": "code",
      "source": [
        "\n",
        "# Sigmoid function and its derivative\n",
        "def sigmoid(x):\n",
        "    return 1 / (1 + np.exp(-x))\n",
        "\n",
        "def sigmoid_derivative(x):\n",
        "    return x * (1 - x)\n"
      ],
      "metadata": {
        "id": "wQHbn5vFC7lb"
      },
      "execution_count": 2,
      "outputs": []
    },
    {
      "cell_type": "markdown",
      "source": [
        "# Starting parameters"
      ],
      "metadata": {
        "id": "y4ShsdCJDDda"
      }
    },
    {
      "cell_type": "code",
      "source": [
        "\n",
        "# Initialize parameters as some random variables\n",
        "w, v, b = 0.5, 0.3, -0.2\n",
        "X = 2 # Input\n",
        "Y = 0.8 # Desireed output\n",
        "learning_rate = 0.01\n"
      ],
      "metadata": {
        "id": "SAE-mY4qDADV"
      },
      "execution_count": 4,
      "outputs": []
    },
    {
      "cell_type": "code",
      "source": [
        "\n",
        "# Let's make the math equation\n",
        "z = v * X + b\n",
        "a = sigmoid(z)\n",
        "Y_pred = w * a\n"
      ],
      "metadata": {
        "id": "zMsqQaHkDG05"
      },
      "execution_count": 6,
      "outputs": []
    },
    {
      "cell_type": "markdown",
      "source": [
        "# Calculate the Erros and minimize then"
      ],
      "metadata": {
        "id": "k5f2BZNKDN0M"
      }
    },
    {
      "cell_type": "code",
      "source": [
        "\n",
        "# Compute error as a simple difference between current output and actual desired output\n",
        "error = Y - Y_pred\n",
        "\n",
        "dw = error * a\n",
        "dv = error * w * sigmoid_derivative(a) * X\n",
        "db = error * w * sigmoid_derivative(a)\n"
      ],
      "metadata": {
        "id": "2rZ6XMpnDSmG"
      },
      "execution_count": 7,
      "outputs": []
    },
    {
      "cell_type": "markdown",
      "source": [
        "# Updating parameters"
      ],
      "metadata": {
        "id": "18nVYQzXDbt9"
      }
    },
    {
      "cell_type": "code",
      "source": [
        "# Update the variables based on some learning rate\n",
        "w = w + learning_rate * dw\n",
        "v = v + learning_rate * dv\n",
        "b = b + learning_rate * db\n"
      ],
      "metadata": {
        "id": "3785tNwzDdrm"
      },
      "execution_count": 8,
      "outputs": []
    },
    {
      "cell_type": "code",
      "source": [
        "\n",
        "print(f'Updated parameters: w={w}, v={v}, b={b}')"
      ],
      "metadata": {
        "id": "cNbEIl7VDgpd",
        "outputId": "7e41b76c-fa75-404c-d0da-a78d82774285",
        "colab": {
          "base_uri": "https://localhost:8080/"
        }
      },
      "execution_count": 9,
      "outputs": [
        {
          "output_type": "stream",
          "name": "stdout",
          "text": [
            "Updated parameters: w=0.5059854155755373, v=0.30240703846173794, b=-0.19879648076913103\n"
          ]
        }
      ]
    }
  ]
}