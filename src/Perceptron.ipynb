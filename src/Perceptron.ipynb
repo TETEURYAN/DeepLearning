{
  "nbformat": 4,
  "nbformat_minor": 0,
  "metadata": {
    "colab": {
      "provenance": []
    },
    "kernelspec": {
      "name": "python3",
      "display_name": "Python 3"
    },
    "language_info": {
      "name": "python"
    }
  },
  "cells": [
    {
      "cell_type": "markdown",
      "source": [
        "# Perceptron studies\n",
        "\n",
        "  Este tópico abordará a criação de um simples perceptron.\n",
        "Um perceptron é uma unidade básica de uma rede neural artificial, comumente utilizada em modelos de aprendizado de máquina. Ele é inspirado no funcionamento dos neurônios no cérebro humano. Um perceptron recebe entradas, aplica pesos a essas entradas, soma esses produtos ponderados e, em seguida, aplica uma função de ativação para gerar a saída.\n",
        "\n",
        "A fórmula de um perceptron pode ser representada por:\n",
        "\n",
        "> y=f(∑i=1n​(xi​⋅wi​)+b)\n"
      ],
      "metadata": {
        "id": "y_z35UKu3Nuy"
      }
    },
    {
      "cell_type": "code",
      "execution_count": null,
      "metadata": {
        "colab": {
          "base_uri": "https://localhost:8080/"
        },
        "id": "kL_nHEuX2-OM",
        "outputId": "fea41b2d-96c9-46ca-90db-4caca12707c2"
      },
      "outputs": [
        {
          "output_type": "stream",
          "name": "stdout",
          "text": [
            "0.04000000000000001\n",
            "0.19\n",
            "0.31\n",
            "output: 0\n"
          ]
        }
      ],
      "source": [
        "x_input = [0.1, 0.5, 0.2]\n",
        "w_weights = [0.4, 0.3, 0.6]\n",
        "threshold = 0.5\n",
        "\n",
        "def step(weighted_sum):\n",
        "        if weighted_sum > threshold:\n",
        "            return 1\n",
        "        else:\n",
        "            return 0\n",
        "\n",
        "def perceptron():\n",
        "        weighted_sum = 0\n",
        "        for x,y in zip(x_input, w_weights):\n",
        "            weighted_sum += x*y\n",
        "            print(weighted_sum)\n",
        "        return step(weighted_sum)\n",
        "\n",
        "output = perceptron()\n",
        "print(\"output: \" + str(output))"
      ]
    },
    {
      "cell_type": "code",
      "source": [
        "# -*- coding: utf-8 -*-\n",
        "\"\"\"\n",
        "Created on Fri Feb 26 10:10:36 2021\n",
        "\n",
        "@author: Vieira\n",
        "\"\"\"\n",
        "\n",
        "#%% Import modules\n",
        "import numpy as np\n",
        "import matplotlib as mpl\n",
        "import matplotlib.pyplot as plt\n",
        "\n",
        "print(np.__name__ + \" version = \" + np.__version__)\n",
        "print(mpl.__name__ + \" version = \" + mpl.__version__)\n",
        "\n",
        "#%% Generate random data\n",
        "np.random.seed(1)\n",
        "\n",
        "xlim = (-10, 10)\n",
        "ylim = (-10, 10)\n",
        "step = 0.02\n",
        "\n",
        "#%%\n",
        "N = 50\n",
        "\n",
        "c1 = np.random.randn(N,2) + np.array([-1, 0])\n",
        "c2 = np.random.randn(N,2) + np.array([ 3, 5])\n",
        "\n",
        "X = np.vstack((c1,c2))\n",
        "y = np.vstack((-1*np.ones((N,1)), np.ones((N,1))))\n",
        "\n",
        "#%%\n",
        "def sgn(x):\n",
        "    return (1 if x >= 0 else -1)\n",
        "\n",
        "def predict(w, x):\n",
        "    return sgn(np.dot(w.T, x))\n",
        "\n",
        "def get_dec_boundary(w):\n",
        "    xx, yy = np.meshgrid(np.arange(xlim[0], xlim[1], step),\n",
        "                         np.arange(ylim[0], ylim[1], step))\n",
        "    samples = np.vstack([np.ones((xx.size)), xx.ravel(), yy.ravel()])\n",
        "    z = np.dot(w.T,samples)\n",
        "    z[z>=0] = 1\n",
        "    z[z<0] = 0\n",
        "    return xx, yy, z.reshape(xx.shape)\n",
        "\n",
        "def get_line(w):\n",
        "    x1 = np.linspace(xlim[0], xlim[1], 2)\n",
        "    x2 = ( -w[0] - w[1]*x1 ) / w[2]\n",
        "    return x1, x2\n",
        "\n",
        "def plot_data(X, y, w, ind = 0):\n",
        "\n",
        "    fig = plt.figure(figsize=(8,8))\n",
        "    ax = fig.add_subplot(1, 1, 1)\n",
        "\n",
        "    plt.plot(X[y.ravel() ==  1,0], X[y.ravel() ==  1,1], 'go')\n",
        "    plt.plot(X[y.ravel() == -1,0], X[y.ravel() == -1,1], 'ro')\n",
        "\n",
        "    # Plot the separation line\n",
        "    x1, x2 = get_line(w)\n",
        "    plt.plot(x1, x2, '-k')\n",
        "    # Plot\n",
        "    plt.plot(X[ind,0], X[ind,1], 'ko')\n",
        "    plt.xlim(-10, 10)\n",
        "    plt.ylim(-10, 10)\n",
        "    xx, yy, zz = get_dec_boundary(w)\n",
        "    plt.contourf(xx, yy, zz, cmap=plt.cm.RdYlGn)\n",
        "\n",
        "    ax.spines['right'].set_color('none')\n",
        "    ax.spines['top'].set_color('none')\n",
        "    ax.spines['left'].set_position('center')\n",
        "    ax.spines['bottom'].set_position('center')\n",
        "    ax.xaxis.set_ticks_position('bottom')\n",
        "    ax.yaxis.set_ticks_position('left')\n",
        "    plt.show()\n",
        "\n",
        "#%%\n",
        "# for i in range(10):\n",
        "i = 5\n",
        "w = np.array([i, 1, 1])\n",
        "\n",
        "plot_data(X, y, w, i)\n",
        "\n",
        "#%%\n",
        "\n",
        "# Initialize weigths\n",
        "# w = np.zeros((3,1))# np.random.random((3,1))\n",
        "w = 10. * np.random.random((3,1))\n",
        "w = w/ np.linalg.norm(w)\n",
        "\n",
        "epochs = range(200)\n",
        "eta = .2\n",
        "\n",
        "for epoch in epochs:\n",
        "  for i in range(X.shape[0]):\n",
        "    x = np.hstack([1, X[i,:]]).reshape((3,1))\n",
        "    y_gt = y[i]\n",
        "    y_hat = predict(w, x)\n",
        "    w = w + eta * (y_gt - y_hat) * x\n",
        "    plot_data(X, y, w, i)\n",
        "plot_data(X, y, w, i)\n",
        "\n",
        "#%%\n",
        "w = np.random.random((3,1))\n",
        "epochs = range(5) #%% hyperparameter\n",
        "eta = 1           #%% hyperparameter\n",
        "\n",
        "for epoch in epochs:\n",
        "  for i in range(X.shape[0]):\n",
        "    x = np.hstack([1, X[i,:]]).reshape((3,1))\n",
        "    y_gt = y[i]\n",
        "    y_hat = predict(w, x)\n",
        "    w = w + eta * (y_gt - y_hat) * x\n",
        "    plot_data(X, y, w, i)\n",
        "plot_data(X, y, w, i)"
      ],
      "metadata": {
        "id": "biJ5srAT5KJp"
      },
      "execution_count": null,
      "outputs": []
    },
    {
      "cell_type": "markdown",
      "source": [
        "# Perceptron somente com NumPy\n",
        "Neste módulo será criado um perceptron para classificação de dados utilizando somente a bilbioteca NumPy para tal dever. Matplotlib e sklearn doram utilizados para plotar gráficos e gerar valores randômicos."
      ],
      "metadata": {
        "id": "Kcgwbu_1XzkS"
      }
    },
    {
      "cell_type": "code",
      "source": [
        "import matplotlib.pyplot as plt\n",
        "import numpy as np\n",
        "from sklearn.datasets import make_blobs\n",
        "from sklearn.model_selection import train_test_split\n",
        "from sklearn.metrics import accuracy_score\n",
        "\n",
        "# Função de ativação (step function)\n",
        "def step_function(x):\n",
        "    return np.where(x > 0, 1, 0)\n",
        "\n",
        "# Função para treinar o perceptron\n",
        "def train_perceptron(X_train, y_train, learning_rate=0.01, epochs=200):\n",
        "    # Adicionar uma coluna de 1 para o termo de polarização (bias)\n",
        "    X_train_bias = np.c_[np.ones((X_train.shape[0], 1)), X_train]\n",
        "\n",
        "    # Inicializar pesos aleatórios\n",
        "    np.random.seed(42)\n",
        "    weights = np.random.rand(X_train_bias.shape[1])\n",
        "\n",
        "    for epoch in range(epochs):\n",
        "        # Calcular a saída do perceptron\n",
        "        predictions = step_function(np.dot(X_train_bias, weights))\n",
        "\n",
        "        # Atualizar os pesos com base no erro\n",
        "        error = y_train - predictions\n",
        "        weights += learning_rate * np.dot(error, X_train_bias) / len(X_train)\n",
        "\n",
        "    return weights\n",
        "\n",
        "# Função para calcilar a acurácia\n",
        "def accuracy(predictions, y_test):\n",
        "    classifications = len(y_test)\n",
        "    correct_classifications = sum(p == r for p, r in zip(predictions, y_test))\n",
        "    return correct_classifications / classifications\n",
        "\n",
        "# Gerar dados\n",
        "X, y = make_blobs(centers=2, cluster_std=1, random_state=1)\n",
        "\n",
        "# Dividir os dados em conjunto de treinamento e teste\n",
        "X_train, X_test, y_train, y_test = train_test_split(X, y, test_size=0.2, random_state=42)\n",
        "\n",
        "# Treinar o perceptron\n",
        "weights = train_perceptron(X_train, y_train)\n",
        "\n",
        "# Adicionar uma coluna de 1 para o termo de polarização (bias) nos dados de teste\n",
        "X_test_bias = np.c_[np.ones((X_test.shape[0], 1)), X_test]\n",
        "\n",
        "# Fazer previsões no conjunto de teste\n",
        "y_pred = step_function(np.dot(X_test_bias, weights))\n",
        "\n",
        "# Calcular a acurácia\n",
        "accuracia = accuracy(y_test, y_pred)\n",
        "print(f'Acurácia do Perceptron: {accuracia * 100:.2f}%')\n",
        "\n",
        "# Plotar os dados e a fronteira de decisão do perceptron\n",
        "plt.scatter(X[:, 0], X[:, 1], c=y)\n",
        "plt.title('Dados e Fronteira de Decisão do Perceptron')\n",
        "plt.xlabel('Feature 1')\n",
        "plt.ylabel('Feature 2')\n",
        "\n",
        "# Plotar a fronteira de decisão\n",
        "ax = plt.gca()\n",
        "xlim = ax.get_xlim()\n",
        "ylim = ax.get_ylim()\n",
        "\n",
        "xx, yy = np.meshgrid(np.linspace(xlim[0], xlim[1], 100), np.linspace(ylim[0], ylim[1], 100))\n",
        "Z = step_function(np.dot(np.c_[np.ones((xx.ravel().shape[0], 1)), xx.ravel(), yy.ravel()], weights))\n",
        "Z = Z.reshape(xx.shape)\n",
        "\n",
        "plt.contourf(xx, yy, Z, alpha=0.3, cmap='coolwarm')\n",
        "plt.show()\n"
      ],
      "metadata": {
        "colab": {
          "base_uri": "https://localhost:8080/",
          "height": 490
        },
        "id": "KYQbr6JCua2N",
        "outputId": "1c92550c-6c63-4d23-bb50-5e21f0424aa3"
      },
      "execution_count": 19,
      "outputs": [
        {
          "output_type": "stream",
          "name": "stdout",
          "text": [
            "Acurácia do Perceptron: 95.00%\n"
          ]
        },
        {
          "output_type": "display_data",
          "data": {
            "text/plain": [
              "<Figure size 640x480 with 1 Axes>"
            ],
            "image/png": "[encoded data removed]"
          },
          "metadata": {}
        }
      ]
    }
  ]
}