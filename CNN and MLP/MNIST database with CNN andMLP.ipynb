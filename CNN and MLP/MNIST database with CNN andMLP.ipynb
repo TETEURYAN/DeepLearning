{
  "cells": [
    {
      "cell_type": "markdown",
      "source": [
        "\n",
        "#MNIST\n",
        "\n",
        "## 1) classificar o MNIST usando rede Densa MLP\n",
        "## 2) classificar o MNIST usando CNN\n",
        "## 3) user transferência de aprendizado p/ classificar o MNIST\n",
        "\n",
        "## Primeiro será exibido os gráficos de loss e acurácia para teste e treinamento da Rede Densa MLP e depois da CNN"
      ],
      "metadata": {
        "id": "h-XckraAlled"
      }
    },
    {
      "cell_type": "markdown",
      "metadata": {
        "id": "_L_d1WA6WH5-"
      },
      "source": [
        "#Filtrando a base de dados"
      ]
    },
    {
      "cell_type": "code",
      "execution_count": 28,
      "metadata": {
        "id": "Cpm4a8uOS9Di"
      },
      "outputs": [],
      "source": [
        "import numpy as np\n",
        "from sklearn.model_selection import train_test_split, cross_validate, KFold\n",
        "from sklearn.metrics import make_scorer, accuracy_score\n",
        "import tensorflow as tf\n",
        "from tensorflow.keras import layers, models\n",
        "from tensorflow.keras.layers import Dense, Flatten, Conv2D\n",
        "from tensorflow.keras import Model\n",
        "import seaborn as sns\n",
        "import numpy as np\n",
        "import pandas as pd\n",
        "import matplotlib.pyplot as plt\n",
        "import matplotlib.image as mpimg"
      ]
    },
    {
      "cell_type": "code",
      "execution_count": 2,
      "metadata": {
        "colab": {
          "base_uri": "https://localhost:8080/"
        },
        "id": "GQaf89TcTKdx",
        "outputId": "a34a7a5c-d6f0-4b40-f56f-2a3236aef87d"
      },
      "outputs": [
        {
          "output_type": "stream",
          "name": "stdout",
          "text": [
            "Downloading data from https://storage.googleapis.com/tensorflow/tf-keras-datasets/mnist.npz\n",
            "11490434/11490434 [==============================] - 0s 0us/step\n",
            "X_train: (60000, 28, 28)\n",
            "Y_train: (60000,)\n",
            "X_test:  (10000,)\n",
            "Y_test:  (10000,)\n"
          ]
        }
      ],
      "source": [
        "(x_train, y_train), (x_test, y_test) = tf.keras.datasets.mnist.load_data()\n",
        "print('X_train: ' + str(x_train.shape))\n",
        "print('Y_train: ' + str(y_train.shape))\n",
        "print('X_test:  '  + str(y_test.shape))\n",
        "print('Y_test:  '  + str(y_test.shape))\n"
      ]
    },
    {
      "cell_type": "code",
      "execution_count": 3,
      "metadata": {
        "colab": {
          "base_uri": "https://localhost:8080/"
        },
        "id": "t6Cwhgolcxfa",
        "outputId": "9ad1edff-a9fe-44aa-e543-f24bc69c97c5"
      },
      "outputs": [
        {
          "output_type": "stream",
          "name": "stdout",
          "text": [
            "[[  0   0   0   0   0   0   0   0   0   0   0   0   0   0   0   0   0   0\n",
            "    0   0   0   0   0   0   0   0   0   0]\n",
            " [  0   0   0   0   0   0   0   0   0   0   0   0   0   0   0   0   0   0\n",
            "    0   0   0   0   0   0   0   0   0   0]\n",
            " [  0   0   0   0   0   0   0   0   0   0   0   0   0   0   0   0   0   0\n",
            "    0   0   0   0   0   0   0   0   0   0]\n",
            " [  0   0   0   0   0   0   0   0   0   0   0   0   0   0   0   0   0   0\n",
            "    0   0   0   0   0   0   0   0   0   0]\n",
            " [  0   0   0   0   0   0   0   0   0   0   0   0   0   0   0   0   0   0\n",
            "    0   0   0   0   0   0   0   0   0   0]\n",
            " [  0   0   0   0   0   0   0   0   0   0   0   0   3  18  18  18 126 136\n",
            "  175  26 166 255 247 127   0   0   0   0]\n",
            " [  0   0   0   0   0   0   0   0  30  36  94 154 170 253 253 253 253 253\n",
            "  225 172 253 242 195  64   0   0   0   0]\n",
            " [  0   0   0   0   0   0   0  49 238 253 253 253 253 253 253 253 253 251\n",
            "   93  82  82  56  39   0   0   0   0   0]\n",
            " [  0   0   0   0   0   0   0  18 219 253 253 253 253 253 198 182 247 241\n",
            "    0   0   0   0   0   0   0   0   0   0]\n",
            " [  0   0   0   0   0   0   0   0  80 156 107 253 253 205  11   0  43 154\n",
            "    0   0   0   0   0   0   0   0   0   0]\n",
            " [  0   0   0   0   0   0   0   0   0  14   1 154 253  90   0   0   0   0\n",
            "    0   0   0   0   0   0   0   0   0   0]\n",
            " [  0   0   0   0   0   0   0   0   0   0   0 139 253 190   2   0   0   0\n",
            "    0   0   0   0   0   0   0   0   0   0]\n",
            " [  0   0   0   0   0   0   0   0   0   0   0  11 190 253  70   0   0   0\n",
            "    0   0   0   0   0   0   0   0   0   0]\n",
            " [  0   0   0   0   0   0   0   0   0   0   0   0  35 241 225 160 108   1\n",
            "    0   0   0   0   0   0   0   0   0   0]\n",
            " [  0   0   0   0   0   0   0   0   0   0   0   0   0  81 240 253 253 119\n",
            "   25   0   0   0   0   0   0   0   0   0]\n",
            " [  0   0   0   0   0   0   0   0   0   0   0   0   0   0  45 186 253 253\n",
            "  150  27   0   0   0   0   0   0   0   0]\n",
            " [  0   0   0   0   0   0   0   0   0   0   0   0   0   0   0  16  93 252\n",
            "  253 187   0   0   0   0   0   0   0   0]\n",
            " [  0   0   0   0   0   0   0   0   0   0   0   0   0   0   0   0   0 249\n",
            "  253 249  64   0   0   0   0   0   0   0]\n",
            " [  0   0   0   0   0   0   0   0   0   0   0   0   0   0  46 130 183 253\n",
            "  253 207   2   0   0   0   0   0   0   0]\n",
            " [  0   0   0   0   0   0   0   0   0   0   0   0  39 148 229 253 253 253\n",
            "  250 182   0   0   0   0   0   0   0   0]\n",
            " [  0   0   0   0   0   0   0   0   0   0  24 114 221 253 253 253 253 201\n",
            "   78   0   0   0   0   0   0   0   0   0]\n",
            " [  0   0   0   0   0   0   0   0  23  66 213 253 253 253 253 198  81   2\n",
            "    0   0   0   0   0   0   0   0   0   0]\n",
            " [  0   0   0   0   0   0  18 171 219 253 253 253 253 195  80   9   0   0\n",
            "    0   0   0   0   0   0   0   0   0   0]\n",
            " [  0   0   0   0  55 172 226 253 253 253 253 244 133  11   0   0   0   0\n",
            "    0   0   0   0   0   0   0   0   0   0]\n",
            " [  0   0   0   0 136 253 253 253 212 135 132  16   0   0   0   0   0   0\n",
            "    0   0   0   0   0   0   0   0   0   0]\n",
            " [  0   0   0   0   0   0   0   0   0   0   0   0   0   0   0   0   0   0\n",
            "    0   0   0   0   0   0   0   0   0   0]\n",
            " [  0   0   0   0   0   0   0   0   0   0   0   0   0   0   0   0   0   0\n",
            "    0   0   0   0   0   0   0   0   0   0]\n",
            " [  0   0   0   0   0   0   0   0   0   0   0   0   0   0   0   0   0   0\n",
            "    0   0   0   0   0   0   0   0   0   0]]\n"
          ]
        }
      ],
      "source": [
        "print(x_train[0])"
      ]
    },
    {
      "cell_type": "code",
      "execution_count": 4,
      "metadata": {
        "id": "YAL8Ge7EdFm5"
      },
      "outputs": [],
      "source": [
        "x_train, x_test = x_train / 255.0, x_test / 255.0"
      ]
    },
    {
      "cell_type": "code",
      "execution_count": null,
      "metadata": {
        "id": "44xCuk0JU-tO"
      },
      "outputs": [],
      "source": [
        "#x_train=x_train.reshape(x_train.shape[0], x_train.shape[1], x_train.shape[2], 1)\n",
        "#x_train=x_train / 255.0\n",
        "#x_test = x_test.reshape(x_test.shape[0], x_test.shape[1], x_test.shape[2], 1)\n",
        "#x_test=x_test/255.0"
      ]
    },
    {
      "cell_type": "code",
      "execution_count": 5,
      "metadata": {
        "colab": {
          "base_uri": "https://localhost:8080/",
          "height": 675
        },
        "id": "V61zHKUDW3x-",
        "outputId": "37e63d03-0556-4887-b2de-9d748d42748a"
      },
      "outputs": [
        {
          "output_type": "display_data",
          "data": {
            "text/plain": [
              "<Figure size 1000x800 with 25 Axes>"
            ],
            "image/png": "[encoded data removed]"
          },
          "metadata": {}
        }
      ],
      "source": [
        "num = 26\n",
        "imgs = x_train[:num]\n",
        "lbls = y_train[:num]\n",
        "figure = plt.figure(figsize=(10, 8))\n",
        "cols, rows = 5, 5\n",
        "for i in range(1, cols * rows + 1):\n",
        "    figure.add_subplot(rows, cols, i)\n",
        "    plt.title(lbls[i])\n",
        "    plt.axis(\"off\")\n",
        "    plt.imshow(imgs[i], cmap='gray')\n",
        "plt.show()"
      ]
    },
    {
      "cell_type": "markdown",
      "source": [
        "# Construindo a e testand a Rede Densa MLP"
      ],
      "metadata": {
        "id": "2f-Vrltgd36t"
      }
    },
    {
      "cell_type": "code",
      "source": [
        "x_train = x_train.reshape((x_train.shape[0], -1))\n",
        "x_test = x_test.reshape((x_test.shape[0], -1))"
      ],
      "metadata": {
        "id": "gleu9sJje4Sz"
      },
      "execution_count": 31,
      "outputs": []
    },
    {
      "cell_type": "code",
      "source": [
        "\n",
        "x_treino, x_val, y_treino, y_val = train_test_split(x_train, y_train, test_size=0.2, random_state=42)\n",
        "\n",
        "model = models.Sequential()\n",
        "model.add(layers.Dense(128, activation='relu', input_shape=(784,)))\n",
        "model.add(layers.Dropout(0.2))\n",
        "model.add(layers.Dense(10, activation='softmax'))\n",
        "\n",
        "\n",
        "model.compile(optimizer='adam',\n",
        "              loss='sparse_categorical_crossentropy',\n",
        "              metrics=['accuracy'])"
      ],
      "metadata": {
        "id": "nu59eT4Kd-jh"
      },
      "execution_count": 53,
      "outputs": []
    },
    {
      "cell_type": "code",
      "source": [
        "\n",
        "history = model.fit(x_treino, y_treino, epochs=10, validation_data=(x_val, y_val))\n",
        "\n",
        "\n",
        "trained_accurr = history.history['accuracy']\n",
        "val_accuracy = history.history['val_accuracy']\n",
        "\n",
        "\n",
        "trained_loss = history.history['loss']\n",
        "val_loss = history.history['val_loss']"
      ],
      "metadata": {
        "colab": {
          "base_uri": "https://localhost:8080/"
        },
        "id": "GZXmJqfTed0G",
        "outputId": "247eaffb-6485-4f41-bcdf-c5d1c5cebdcc"
      },
      "execution_count": 54,
      "outputs": [
        {
          "output_type": "stream",
          "name": "stdout",
          "text": [
            "Epoch 1/10\n",
            "1500/1500 [==============================] - 11s 7ms/step - loss: 0.3256 - accuracy: 0.9064 - val_loss: 0.1498 - val_accuracy: 0.9580\n",
            "Epoch 2/10\n",
            "1500/1500 [==============================] - 7s 5ms/step - loss: 0.1564 - accuracy: 0.9541 - val_loss: 0.1143 - val_accuracy: 0.9676\n",
            "Epoch 3/10\n",
            "1500/1500 [==============================] - 5s 4ms/step - loss: 0.1183 - accuracy: 0.9649 - val_loss: 0.1008 - val_accuracy: 0.9686\n",
            "Epoch 4/10\n",
            "1500/1500 [==============================] - 8s 5ms/step - loss: 0.0948 - accuracy: 0.9702 - val_loss: 0.0849 - val_accuracy: 0.9750\n",
            "Epoch 5/10\n",
            "1500/1500 [==============================] - 5s 3ms/step - loss: 0.0807 - accuracy: 0.9750 - val_loss: 0.0810 - val_accuracy: 0.9758\n",
            "Epoch 6/10\n",
            "1500/1500 [==============================] - 6s 4ms/step - loss: 0.0701 - accuracy: 0.9775 - val_loss: 0.0800 - val_accuracy: 0.9773\n",
            "Epoch 7/10\n",
            "1500/1500 [==============================] - 5s 3ms/step - loss: 0.0604 - accuracy: 0.9808 - val_loss: 0.0811 - val_accuracy: 0.9760\n",
            "Epoch 8/10\n",
            "1500/1500 [==============================] - 5s 3ms/step - loss: 0.0552 - accuracy: 0.9821 - val_loss: 0.0722 - val_accuracy: 0.9800\n",
            "Epoch 9/10\n",
            "1500/1500 [==============================] - 6s 4ms/step - loss: 0.0495 - accuracy: 0.9841 - val_loss: 0.0780 - val_accuracy: 0.9782\n",
            "Epoch 10/10\n",
            "1500/1500 [==============================] - 5s 3ms/step - loss: 0.0443 - accuracy: 0.9855 - val_loss: 0.0752 - val_accuracy: 0.9802\n"
          ]
        }
      ]
    },
    {
      "cell_type": "code",
      "source": [
        "\n",
        "print(\"PRINTANDO TESTE DA REDE DENSA\\n\")\n",
        "\n",
        "tested = zip(trained_loss, trained_accurr)\n",
        "trained = zip(val_loss, val_accuracy)\n",
        "\n",
        "for epoch, test in enumerate(tested, 1):\n",
        "        print(\n",
        "        f'Epoch {epoch}, '\n",
        "        f'Loss: {test[0]}, '\n",
        "        f'Accuracy: {test[1]* 100}, '\n",
        "    )\n",
        "\n",
        "print(\"\\nPRINTANDO TREINO DA REDE DENSA\\n\")\n",
        "\n",
        "for epoch, train in enumerate(trained, 1):\n",
        "    print(\n",
        "        f'Epoch {epoch}, '\n",
        "        f'Loss: {train[0]}, '\n",
        "        f'Accuracy: {train[1] * 100}, '\n",
        "    )\n"
      ],
      "metadata": {
        "colab": {
          "base_uri": "https://localhost:8080/"
        },
        "id": "VlolIt74fash",
        "outputId": "aad73a5c-eed1-4bb7-a82e-645bc0c2f9f2"
      },
      "execution_count": 56,
      "outputs": [
        {
          "output_type": "stream",
          "name": "stdout",
          "text": [
            "PRINTANDO TESTE DA REDE DENSA\n",
            "\n",
            "Epoch 1, Loss: 0.3256103992462158, Accuracy: 90.63541889190674, \n",
            "Epoch 2, Loss: 0.15640757977962494, Accuracy: 95.40625214576721, \n",
            "Epoch 3, Loss: 0.11831831187009811, Accuracy: 96.48749828338623, \n",
            "Epoch 4, Loss: 0.09476462751626968, Accuracy: 97.01874852180481, \n",
            "Epoch 5, Loss: 0.08072734624147415, Accuracy: 97.49791622161865, \n",
            "Epoch 6, Loss: 0.07005807757377625, Accuracy: 97.75208234786987, \n",
            "Epoch 7, Loss: 0.06041007116436958, Accuracy: 98.0750024318695, \n",
            "Epoch 8, Loss: 0.05518085137009621, Accuracy: 98.20625185966492, \n",
            "Epoch 9, Loss: 0.04949546977877617, Accuracy: 98.41041564941406, \n",
            "Epoch 10, Loss: 0.04426446929574013, Accuracy: 98.55208396911621, \n",
            "\n",
            "PRINTANDO TREINO DA REDE DENSA\n",
            "\n",
            "Epoch 1, Loss: 0.14976845681667328, Accuracy: 95.80000042915344, \n",
            "Epoch 2, Loss: 0.1143166795372963, Accuracy: 96.75833582878113, \n",
            "Epoch 3, Loss: 0.10077904909849167, Accuracy: 96.8583345413208, \n",
            "Epoch 4, Loss: 0.0849108099937439, Accuracy: 97.50000238418579, \n",
            "Epoch 5, Loss: 0.08100534975528717, Accuracy: 97.58333563804626, \n",
            "Epoch 6, Loss: 0.07998134940862656, Accuracy: 97.73333072662354, \n",
            "Epoch 7, Loss: 0.08112336695194244, Accuracy: 97.60000109672546, \n",
            "Epoch 8, Loss: 0.07222793251276016, Accuracy: 98.00000190734863, \n",
            "Epoch 9, Loss: 0.07798372209072113, Accuracy: 97.81666398048401, \n",
            "Epoch 10, Loss: 0.07521975785493851, Accuracy: 98.01666736602783, \n"
          ]
        }
      ]
    },
    {
      "cell_type": "code",
      "source": [
        "fig, ax = plt.subplots(2,1)\n",
        "ax[0].plot(val_loss, color='b', label=\"Validation Loss\")\n",
        "ax[0].plot(trained_loss, color='r', label=\"Training Loss\",axes =ax[0])\n",
        "legend = ax[0].legend(loc='best', shadow=True)\n",
        "\n",
        "ax[1].plot(val_accuracy, color='b', label=\"Validation Accuracy\")\n",
        "ax[1].plot(trained_accurr, color='r',label=\"Training Accuracy\")\n",
        "legend = ax[1].legend(loc='best', shadow=True)"
      ],
      "metadata": {
        "colab": {
          "base_uri": "https://localhost:8080/",
          "height": 430
        },
        "id": "d2jlSMDZjd4-",
        "outputId": "5aa38574-5b85-4e63-e6b3-560991e5b6bf"
      },
      "execution_count": 52,
      "outputs": [
        {
          "output_type": "display_data",
          "data": {
            "text/plain": [
              "<Figure size 640x480 with 2 Axes>"
            ],
            "image/png": "[encoded data removed]"
          },
          "metadata": {}
        }
      ]
    },
    {
      "cell_type": "markdown",
      "metadata": {
        "id": "P-38QgeYWDFH"
      },
      "source": [
        "#Construindo e testando CNN"
      ]
    },
    {
      "cell_type": "code",
      "execution_count": 6,
      "metadata": {
        "id": "zdzSMr7MWOuZ"
      },
      "outputs": [],
      "source": [
        "class CNN(Model):\n",
        "    def __init__(self):\n",
        "        super(CNN, self).__init__()\n",
        "        self.conv1 = Conv2D(32, 3, activation='relu')\n",
        "        self.flatten = Flatten()\n",
        "        self.d1 = Dense(128, activation='relu')\n",
        "        self.d2 = Dense(10)\n",
        "        pass\n",
        "    def call(self, x):\n",
        "        x = self.conv1(x)\n",
        "        x = self.flatten(x)\n",
        "        x = self.d1(x)\n",
        "        return self.d2(x)\n",
        "        pass\n",
        "    pass"
      ]
    },
    {
      "cell_type": "code",
      "execution_count": 7,
      "metadata": {
        "id": "5nm5FGD0ZtNG"
      },
      "outputs": [],
      "source": [
        "cnn = CNN()"
      ]
    },
    {
      "cell_type": "code",
      "execution_count": 8,
      "metadata": {
        "id": "vjLMmiqadN-K"
      },
      "outputs": [],
      "source": [
        "x_train = x_train[..., tf.newaxis].astype(\"float32\")\n",
        "x_test = x_test[..., tf.newaxis].astype(\"float32\")"
      ]
    },
    {
      "cell_type": "code",
      "execution_count": 9,
      "metadata": {
        "id": "Bd3ZqW_yYAQs"
      },
      "outputs": [],
      "source": [
        "loss_func = tf.keras.losses.SparseCategoricalCrossentropy(from_logits=True)\n",
        "optimizer = tf.keras.optimizers.Adam()"
      ]
    },
    {
      "cell_type": "code",
      "execution_count": 10,
      "metadata": {
        "id": "Q_uYY9HoYHXo"
      },
      "outputs": [],
      "source": [
        "train_loss = tf.keras.metrics.Mean(name='train_loss')\n",
        "train_accuracy = tf.keras.metrics.SparseCategoricalAccuracy(name='train_accuracy')\n",
        "test_loss = tf.keras.metrics.Mean(name='test_loss')\n",
        "test_accuracy = tf.keras.metrics.SparseCategoricalAccuracy(name='test_accuracy')"
      ]
    },
    {
      "cell_type": "code",
      "execution_count": 11,
      "metadata": {
        "id": "QwSjUwGtYx6x"
      },
      "outputs": [],
      "source": [
        "train_ds = tf.data.Dataset.from_tensor_slices((x_train, y_train)).shuffle(10000).batch(32)\n",
        "test_ds = tf.data.Dataset.from_tensor_slices((x_test, y_test)).batch(32)"
      ]
    },
    {
      "cell_type": "code",
      "execution_count": 12,
      "metadata": {
        "id": "ONmcNDMAgKRQ"
      },
      "outputs": [],
      "source": [
        "train_lossarr=[]\n",
        "train_accuracyarr=[]\n",
        "\n",
        "test_lossarr=[]\n",
        "test_accuracyarr=[]"
      ]
    },
    {
      "cell_type": "code",
      "execution_count": 13,
      "metadata": {
        "id": "vwgGKNDnYWuf"
      },
      "outputs": [],
      "source": [
        "num_epochs = 10"
      ]
    },
    {
      "cell_type": "code",
      "execution_count": 55,
      "metadata": {
        "id": "fZ7WyUgMYXCP"
      },
      "outputs": [],
      "source": [
        "\n",
        "def train(images, labels):\n",
        "    with tf.GradientTape() as tape:\n",
        "        predictions = cnn(images, training=True)\n",
        "        loss = loss_func(labels, predictions)\n",
        "\n",
        "        gradients = tape.gradient(loss, cnn.trainable_variables)\n",
        "        optimizer.apply_gradients(zip(gradients, cnn.trainable_variables))\n",
        "        train_loss(loss)\n",
        "        train_accuracy(labels, predictions)\n",
        "    pass\n",
        "\n",
        "def test(images, labels):\n",
        "    with tf.GradientTape() as tape:\n",
        "      predictions = cnn(images, training=False)\n",
        "      t_loss = loss_func(labels, predictions)\n",
        "      gradients = tape.gradient(t_loss, cnn.trainable_variables)\n",
        "      optimizer.apply_gradients(zip(gradients, cnn.trainable_variables))\n",
        "      test_loss(t_loss)\n",
        "      test_accuracy(labels, predictions)\n",
        "    pass"
      ]
    },
    {
      "cell_type": "code",
      "execution_count": 15,
      "metadata": {
        "colab": {
          "base_uri": "https://localhost:8080/"
        },
        "id": "PEKe-Ho1Yil1",
        "outputId": "6005c4f3-8630-4b01-a4c9-76e5c90cf1bb"
      },
      "outputs": [
        {
          "output_type": "stream",
          "name": "stdout",
          "text": [
            "Epoch 1, Loss: 0.13944850862026215, Accuracy: 95.75499725341797, \n",
            "Epoch 2, Loss: 0.043666381388902664, Accuracy: 98.66667175292969, \n",
            "Epoch 3, Loss: 0.023095494136214256, Accuracy: 99.25666809082031, \n",
            "Epoch 4, Loss: 0.015509597025811672, Accuracy: 99.4766616821289, \n",
            "Epoch 5, Loss: 0.00889092218130827, Accuracy: 99.67166900634766, \n",
            "Epoch 6, Loss: 0.00934501364827156, Accuracy: 99.69166564941406, \n",
            "Epoch 7, Loss: 0.005199074745178223, Accuracy: 99.81500244140625, \n",
            "Epoch 8, Loss: 0.006039218045771122, Accuracy: 99.78666687011719, \n",
            "Epoch 9, Loss: 0.004737067501991987, Accuracy: 99.84833526611328, \n",
            "Epoch 10, Loss: 0.003370265942066908, Accuracy: 99.88666534423828, \n"
          ]
        }
      ],
      "source": [
        "for epoch in range(num_epochs):\n",
        "    train_loss.reset_states()\n",
        "    train_accuracy.reset_states()\n",
        "\n",
        "    for images, labels in train_ds:\n",
        "        train(images, labels)\n",
        "\n",
        "    train_lossarr.append(train_loss.result())\n",
        "    train_accuracyarr.append(train_accuracy.result() * 100)\n",
        "    print(\n",
        "        f'Epoch {epoch + 1}, '\n",
        "        f'Loss: {train_loss.result()}, '\n",
        "        f'Accuracy: {train_accuracy.result() * 100}, '\n",
        "    )"
      ]
    },
    {
      "cell_type": "code",
      "execution_count": 26,
      "metadata": {
        "colab": {
          "base_uri": "https://localhost:8080/"
        },
        "id": "JTQlXEcceB_S",
        "outputId": "2628605d-7ad0-4e47-ac24-2f6e4abbea9f"
      },
      "outputs": [
        {
          "output_type": "stream",
          "name": "stdout",
          "text": [
            "Epoch 1, Test Loss: 0.06717000901699066, Test Accuracy: 98.20999908447266\n",
            "Epoch 2, Test Loss: 0.006012508179992437, Test Accuracy: 99.83000183105469\n",
            "Epoch 3, Test Loss: 0.0005292168352752924, Test Accuracy: 100.0\n",
            "Epoch 4, Test Loss: 0.00020416645566001534, Test Accuracy: 100.0\n",
            "Epoch 5, Test Loss: 0.0001387725496897474, Test Accuracy: 100.0\n",
            "Epoch 6, Test Loss: 0.00010129289148608223, Test Accuracy: 100.0\n",
            "Epoch 7, Test Loss: 7.657318928977475e-05, Test Accuracy: 100.0\n",
            "Epoch 8, Test Loss: 5.939384936937131e-05, Test Accuracy: 100.0\n",
            "Epoch 9, Test Loss: 4.690268178819679e-05, Test Accuracy: 100.0\n",
            "Epoch 10, Test Loss: 3.7552214052993804e-05, Test Accuracy: 100.0\n"
          ]
        }
      ],
      "source": [
        "for epoch in range(num_epochs):\n",
        "\n",
        "    test_loss.reset_states()\n",
        "    test_accuracy.reset_states()\n",
        "    for test_images, test_labels in test_ds:\n",
        "        test(test_images, test_labels)\n",
        "\n",
        "    test_lossarr.append(test_loss.result())\n",
        "    test_accuracyarr.append(test_accuracy.result() * 100)\n",
        "    print(\n",
        "        f'Epoch {epoch + 1}, '\n",
        "        f'Test Loss: {test_loss.result()}, '\n",
        "        f'Test Accuracy: {test_accuracy.result() * 100}'\n",
        "    )"
      ]
    },
    {
      "cell_type": "code",
      "execution_count": 27,
      "metadata": {
        "id": "XZEFnJG5iEaI",
        "colab": {
          "base_uri": "https://localhost:8080/",
          "height": 430
        },
        "outputId": "64c5e9d5-5458-4e67-c057-9bac7a11de75"
      },
      "outputs": [
        {
          "output_type": "display_data",
          "data": {
            "text/plain": [
              "<Figure size 640x480 with 2 Axes>"
            ],
            "image/png": "[encoded data removed]"
          },
          "metadata": {}
        }
      ],
      "source": [
        "fig, ax = plt.subplots(2,1)\n",
        "ax[0].plot(test_lossarr, color='b', label=\"Validation Loss\")\n",
        "ax[0].plot(train_lossarr, color='r', label=\"Training Loss\",axes =ax[0])\n",
        "legend = ax[0].legend(loc='best', shadow=True)\n",
        "\n",
        "ax[1].plot(test_accuracyarr, color='b', label=\"Validation Accuracy\")\n",
        "ax[1].plot(train_accuracyarr, color='r',label=\"Training Accuracy\")\n",
        "legend = ax[1].legend(loc='best', shadow=True)\n"
      ]
    }
  ],
  "metadata": {
    "colab": {
      "provenance": []
    },
    "kernelspec": {
      "display_name": "Python 3",
      "name": "python3"
    },
    "language_info": {
      "name": "python"
    }
  },
  "nbformat": 4,
  "nbformat_minor": 0
}