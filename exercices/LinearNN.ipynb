{
  "nbformat": 4,
  "nbformat_minor": 0,
  "metadata": {
    "colab": {
      "provenance": []
    },
    "kernelspec": {
      "name": "python3",
      "display_name": "Python 3"
    },
    "language_info": {
      "name": "python"
    }
  },
  "cells": [
    {
      "cell_type": "markdown",
      "source": [
        "# Treinamento\n"
      ],
      "metadata": {
        "id": "KvpHxqIEO_ub"
      }
    },
    {
      "cell_type": "code",
      "execution_count": 1,
      "metadata": {
        "colab": {
          "base_uri": "https://localhost:8080/"
        },
        "id": "xozJD2oeOaoP",
        "outputId": "3f50bbbf-1c37-454a-f0f6-3d35a9c5f597"
      },
      "outputs": [
        {
          "output_type": "stream",
          "name": "stderr",
          "text": [
            "WARNING:tensorflow:From /usr/local/lib/python3.10/dist-packages/tensorflow/python/compat/v2_compat.py:108: disable_resource_variables (from tensorflow.python.ops.variable_scope) is deprecated and will be removed in a future version.\n",
            "Instructions for updating:\n",
            "non-resource variables are not supported in the long term\n"
          ]
        }
      ],
      "source": [
        "import tensorflow.compat.v1 as tf\n",
        "tf.disable_v2_behavior()\n",
        "import numpy as np"
      ]
    },
    {
      "cell_type": "code",
      "source": [
        "n_features = 10\n",
        "n_dense_neurons = 3\n",
        "# O segundo parâmetro de placeholder é o formato, Onde tem o None,\n",
        "# são os registros, ou seja, as linhas e n_features são as colunas.\n",
        "x = tf.placeholder(tf.float32, (None, n_features))\n",
        "W = tf.Variable(tf.random_normal([n_features, n_dense_neurons]))\n",
        "b = tf.Variable(tf.ones([n_dense_neurons]))\n",
        "xW = tf.matmul(x, W)\n",
        "z = tf.add(xW, b)\n",
        "#função de ativação\n",
        "a = tf.sigmoid(z)\n",
        "init = tf.global_variables_initializer()\n",
        "with tf.Session() as sess:\n",
        "  sess.run(init)\n",
        "  layer_out = sess.run(a, feed_dict={x: np.random.random([1, n_features])})\n",
        "#Resultado, números entre 0 e 1, porque estamos usando a função de ativação Sigmoid\n",
        "print(layer_out)"
      ],
      "metadata": {
        "colab": {
          "base_uri": "https://localhost:8080/"
        },
        "id": "vOfiRmfqPyLk",
        "outputId": "68dbe66f-449c-4713-86fd-d8fdf39a286e"
      },
      "execution_count": 2,
      "outputs": [
        {
          "output_type": "stream",
          "name": "stdout",
          "text": [
            "[[0.7682511  0.9767883  0.68143857]]\n"
          ]
        }
      ]
    },
    {
      "cell_type": "markdown",
      "source": [
        "# Modelo"
      ],
      "metadata": {
        "id": "v05r7g6UQAhg"
      }
    },
    {
      "cell_type": "code",
      "source": [
        "x_data = np.linspace(0, 10, 10) + np.random.uniform(-1.5, 1.5, 10)\n",
        "y_label = np.linspace(0, 10, 10) + np.random.uniform(-1.5, 1.5, 10)\n",
        "import matplotlib .pyplot as plt\n",
        "%matplotlib inline\n",
        "plt.plot(x_data, y_label, '*')"
      ],
      "metadata": {
        "colab": {
          "base_uri": "https://localhost:8080/",
          "height": 448
        },
        "id": "vBsn1JSvQEiF",
        "outputId": "b0f021bc-1832-48e5-fd73-79872f31756d"
      },
      "execution_count": 3,
      "outputs": [
        {
          "output_type": "execute_result",
          "data": {
            "text/plain": [
              "[<matplotlib.lines.Line2D at 0x7a305d9d9e10>]"
            ]
          },
          "metadata": {},
          "execution_count": 3
        },
        {
          "output_type": "display_data",
          "data": {
            "text/plain": [
              "<Figure size 640x480 with 1 Axes>"
            ],
            "image/png": "[encoded data removed]"
          },
          "metadata": {}
        }
      ]
    },
    {
      "cell_type": "code",
      "source": [
        "m = tf.Variable(0.35)\n",
        "b = tf.Variable(0.19)\n",
        "\n",
        "error = 0\n",
        "for x, y in zip(x_data, y_label):\n",
        "  y_hat = m * x + b\n",
        "  error += (y - y_hat) ** 2"
      ],
      "metadata": {
        "id": "e9JEWIuJQYJf"
      },
      "execution_count": 4,
      "outputs": []
    },
    {
      "cell_type": "code",
      "source": [
        "optimizer = tf.train.GradientDescentOptimizer(learning_rate=0.001)\n",
        "train = optimizer.minimize(error)\n",
        "\n",
        "init = tf.global_variables_initializer()"
      ],
      "metadata": {
        "id": "Kz6E0tZ4QchW"
      },
      "execution_count": 5,
      "outputs": []
    },
    {
      "cell_type": "code",
      "source": [
        "with tf.Session() as sess:\n",
        "  sess.run(init)\n",
        "  training_steps = 1\n",
        "  for i in range(training_steps):\n",
        "    sess.run(train)\n",
        "  final_slope, final_intercept = sess.run([m, b])\n",
        "\n",
        "x_test = np.linspace(-1, 11, 10)\n",
        "# y = mx + b\n",
        "y_pred_plot = final_slope * x_test + final_intercept"
      ],
      "metadata": {
        "id": "Qk8aEr3BQfhH"
      },
      "execution_count": 6,
      "outputs": []
    },
    {
      "cell_type": "code",
      "source": [
        "\n",
        "plt.plot(x_test, y_pred_plot, 'red')\n",
        "plt.plot(x_data, y_label, '*')"
      ],
      "metadata": {
        "colab": {
          "base_uri": "https://localhost:8080/",
          "height": 453
        },
        "id": "Qo9TgbkXQh4T",
        "outputId": "54ccc508-361c-4e16-a2fe-c2e208490ee3"
      },
      "execution_count": 7,
      "outputs": [
        {
          "output_type": "execute_result",
          "data": {
            "text/plain": [
              "[<matplotlib.lines.Line2D at 0x7a3054ff88b0>]"
            ]
          },
          "metadata": {},
          "execution_count": 7
        },
        {
          "output_type": "display_data",
          "data": {
            "text/plain": [
              "<Figure size 640x480 with 1 Axes>"
            ],
            "image/png": "[encoded data removed]"
          },
          "metadata": {}
        }
      ]
    }
  ]
}